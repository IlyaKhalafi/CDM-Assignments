{
  "cells": [
    {
      "cell_type": "markdown",
      "metadata": {
        "id": "NchqVoT3OL8f"
      },
      "source": [
        "# Implementation of the Page Rank Algorithm + Bonus Question\n",
        "\n",
        "---\n",
        "#### Course: Computational Data Mining\n",
        "#### Professor: Dr. Fatemeh Shakeri\n",
        "#### Student: Ilya Khalafi\n",
        "#### Student ID: 9913039\n",
        "#### December 2023"
      ]
    },
    {
      "cell_type": "markdown",
      "metadata": {
        "id": "ZuZQ4wht7zlb"
      },
      "source": [
        "# Table Of Contents\n",
        "- [Introduction](#intro)\n",
        "- [Dependencies](#dependency)\n",
        "- [Importing the Dataset](#dataset)\n",
        "- [Challenges](#challenges)\n",
        "  - [Implementation of the Page Rank](#implementation)\n",
        "  - [Applying the Page Rank](#apply)\n",
        "- [Bonus Problem](#bonus)"
      ]
    },
    {
      "cell_type": "markdown",
      "metadata": {
        "id": "ZpkdYRqO5VEj"
      },
      "source": [
        "<a name=\"intro\"></a>\n",
        "\n",
        "# Introduction 📚\n",
        "\n",
        "---\n",
        "\n",
        "One of the interesting probabilistics models are Markov Decision Processes (MDP). MDPs are applicable to several real-world conditions. In fact, wherever there is a combination of state and probabilistic transition, we can model our environment as a MDP.\n",
        "\n",
        "<img src=\"https://upload.wikimedia.org/wikipedia/commons/a/ad/Markov_Decision_Process.svg\" width=\"400\"/>\n",
        "\n",
        "One of the exciting real world MDPs is internet's webapges! Each page is considered to be a state, then there are edges to other nodes with a given probability. In order to rank webpage, we assume users go around inside this MDP; therefore, from somewhere, we expect to see a constant and specific amount of users visiting each page. This is called **stationary distribution** of our MDP. From an linear algebraic point of view, stationary distribution is simply the eigenvector of the transition matrix of our nodes, were transition matrix is like adjacency matrix of MDP if we consider our MDP as a weighted graph and consider probabilities as weights of edges.\n",
        "\n",
        "In this article, we implement the Page Rank Algorithm, which briefly utilizes the Power Method to calculate the eigenvectors of our transition matrix (stationary distribution of MDP). Then we use the value of each state in the eigenvector to rank states of our MDP (webpages of internet)."
      ]
    },
    {
      "cell_type": "markdown",
      "metadata": {
        "id": "vXR_nHyMBCVI"
      },
      "source": [
        "<a name=\"dependency\"></a>\n",
        "\n",
        "#Dependencies 🧰\n",
        "\n",
        "---\n",
        "\n",
        "We need the following libraries during this article:\n",
        "\n",
        "- **numpy** : <br />\n",
        "    numpy is a commonly used library for doing scientific computation. Unlike python default pointer structure, numpy saves variables inplace and continous on RAM and also provides sophisticated methods that use parallelism to make our computations much faster.\n",
        "\n",
        "- **pandas**: <br />\n",
        "    pandas is well-known in data science for its useful methods for reading and manipulating the data.\n",
        "\n",
        "- **scipy**: <br />\n",
        "    As numpy is specialized for numerical computation, scipy is specialized for scientific computation. It contains several useful methods that are not present inside numpy. We will use its CSR class for representing our sparse matrices.\n"
      ]
    },
    {
      "cell_type": "code",
      "execution_count": 1,
      "metadata": {
        "id": "sd9VGeCJBDXg"
      },
      "outputs": [],
      "source": [
        "%%capture\n",
        "# Fundamental Data Analysis & Visualization Tools\n",
        "import numpy as np\n",
        "import pandas as pd\n",
        "from scipy.sparse import csr_array"
      ]
    },
    {
      "cell_type": "markdown",
      "metadata": {
        "id": "dufiEBk54QdX"
      },
      "source": [
        "<a name=\"dataset\"></a>\n",
        "\n",
        "#Importing the Dataset 🔽\n",
        "\n",
        "---\n",
        "\n",
        "Here we download the **sklearn-anatomy** dataset from my google drive, then we import it using the pandas library."
      ]
    },
    {
      "cell_type": "code",
      "execution_count": 2,
      "metadata": {
        "colab": {
          "base_uri": "https://localhost:8080/"
        },
        "id": "dUdLIRQM4QdX",
        "outputId": "bec2a0f7-788a-4126-e37f-458dce5ffc17"
      },
      "outputs": [
        {
          "name": "stdout",
          "output_type": "stream",
          "text": [
            "Downloading...\n",
            "From: https://drive.google.com/uc?id=1wVWN1TmopEjSOQhC76I4cPUgK-iEadzD\n",
            "To: /content/sklearn-anatomy.csv\n",
            "\r  0% 0.00/17.8M [00:00<?, ?B/s]\r 50% 8.91M/17.8M [00:00<00:00, 76.0MB/s]\r100% 17.8M/17.8M [00:00<00:00, 117MB/s] \n"
          ]
        }
      ],
      "source": [
        "# Downloading the dataset\n",
        "!gdown '1wVWN1TmopEjSOQhC76I4cPUgK-iEadzD'"
      ]
    },
    {
      "cell_type": "code",
      "execution_count": 3,
      "metadata": {
        "colab": {
          "base_uri": "https://localhost:8080/",
          "height": 293
        },
        "id": "15jI-Hs04QdY",
        "outputId": "a4de9619-acc7-4893-da53-c4419afda1bb"
      },
      "outputs": [
        {
          "data": {
            "text/html": [
              "\n",
              "  <div id=\"df-e37296d4-3128-4532-8f9c-a2de7727143d\" class=\"colab-df-container\">\n",
              "    <div>\n",
              "<style scoped>\n",
              "    .dataframe tbody tr th:only-of-type {\n",
              "        vertical-align: middle;\n",
              "    }\n",
              "\n",
              "    .dataframe tbody tr th {\n",
              "        vertical-align: top;\n",
              "    }\n",
              "\n",
              "    .dataframe thead th {\n",
              "        text-align: right;\n",
              "    }\n",
              "</style>\n",
              "<table border=\"1\" class=\"dataframe\">\n",
              "  <thead>\n",
              "    <tr style=\"text-align: right;\">\n",
              "      <th></th>\n",
              "      <th>page_url</th>\n",
              "      <th>page_title</th>\n",
              "      <th>page_length</th>\n",
              "      <th>link_text</th>\n",
              "      <th>link_href</th>\n",
              "      <th>link_url</th>\n",
              "    </tr>\n",
              "  </thead>\n",
              "  <tbody>\n",
              "    <tr>\n",
              "      <th>0</th>\n",
              "      <td>https://scikit-learn.org/stable/index.html</td>\n",
              "      <td>scikit-learn: machine learning in Python — sci...</td>\n",
              "      <td>27767</td>\n",
              "      <td>Install</td>\n",
              "      <td>install.html</td>\n",
              "      <td>https://scikit-learn.org/stable/install.html</td>\n",
              "    </tr>\n",
              "    <tr>\n",
              "      <th>1</th>\n",
              "      <td>https://scikit-learn.org/stable/index.html</td>\n",
              "      <td>scikit-learn: machine learning in Python — sci...</td>\n",
              "      <td>27767</td>\n",
              "      <td>User Guide</td>\n",
              "      <td>user_guide.html</td>\n",
              "      <td>https://scikit-learn.org/stable/user_guide.html</td>\n",
              "    </tr>\n",
              "    <tr>\n",
              "      <th>2</th>\n",
              "      <td>https://scikit-learn.org/stable/index.html</td>\n",
              "      <td>scikit-learn: machine learning in Python — sci...</td>\n",
              "      <td>27767</td>\n",
              "      <td>API</td>\n",
              "      <td>modules/classes.html</td>\n",
              "      <td>https://scikit-learn.org/stable/modules/classe...</td>\n",
              "    </tr>\n",
              "    <tr>\n",
              "      <th>3</th>\n",
              "      <td>https://scikit-learn.org/stable/index.html</td>\n",
              "      <td>scikit-learn: machine learning in Python — sci...</td>\n",
              "      <td>27767</td>\n",
              "      <td>Examples</td>\n",
              "      <td>auto_examples/index.html</td>\n",
              "      <td>https://scikit-learn.org/stable/auto_examples/...</td>\n",
              "    </tr>\n",
              "    <tr>\n",
              "      <th>4</th>\n",
              "      <td>https://scikit-learn.org/stable/index.html</td>\n",
              "      <td>scikit-learn: machine learning in Python — sci...</td>\n",
              "      <td>27767</td>\n",
              "      <td>Community</td>\n",
              "      <td>https://blog.scikit-learn.org/</td>\n",
              "      <td>https://blog.scikit-learn.org/</td>\n",
              "    </tr>\n",
              "  </tbody>\n",
              "</table>\n",
              "</div>\n",
              "    <div class=\"colab-df-buttons\">\n",
              "\n",
              "  <div class=\"colab-df-container\">\n",
              "    <button class=\"colab-df-convert\" onclick=\"convertToInteractive('df-e37296d4-3128-4532-8f9c-a2de7727143d')\"\n",
              "            title=\"Convert this dataframe to an interactive table.\"\n",
              "            style=\"display:none;\">\n",
              "\n",
              "  <svg xmlns=\"http://www.w3.org/2000/svg\" height=\"24px\" viewBox=\"0 -960 960 960\">\n",
              "    <path d=\"M120-120v-720h720v720H120Zm60-500h600v-160H180v160Zm220 220h160v-160H400v160Zm0 220h160v-160H400v160ZM180-400h160v-160H180v160Zm440 0h160v-160H620v160ZM180-180h160v-160H180v160Zm440 0h160v-160H620v160Z\"/>\n",
              "  </svg>\n",
              "    </button>\n",
              "\n",
              "  <style>\n",
              "    .colab-df-container {\n",
              "      display:flex;\n",
              "      gap: 12px;\n",
              "    }\n",
              "\n",
              "    .colab-df-convert {\n",
              "      background-color: #E8F0FE;\n",
              "      border: none;\n",
              "      border-radius: 50%;\n",
              "      cursor: pointer;\n",
              "      display: none;\n",
              "      fill: #1967D2;\n",
              "      height: 32px;\n",
              "      padding: 0 0 0 0;\n",
              "      width: 32px;\n",
              "    }\n",
              "\n",
              "    .colab-df-convert:hover {\n",
              "      background-color: #E2EBFA;\n",
              "      box-shadow: 0px 1px 2px rgba(60, 64, 67, 0.3), 0px 1px 3px 1px rgba(60, 64, 67, 0.15);\n",
              "      fill: #174EA6;\n",
              "    }\n",
              "\n",
              "    .colab-df-buttons div {\n",
              "      margin-bottom: 4px;\n",
              "    }\n",
              "\n",
              "    [theme=dark] .colab-df-convert {\n",
              "      background-color: #3B4455;\n",
              "      fill: #D2E3FC;\n",
              "    }\n",
              "\n",
              "    [theme=dark] .colab-df-convert:hover {\n",
              "      background-color: #434B5C;\n",
              "      box-shadow: 0px 1px 3px 1px rgba(0, 0, 0, 0.15);\n",
              "      filter: drop-shadow(0px 1px 2px rgba(0, 0, 0, 0.3));\n",
              "      fill: #FFFFFF;\n",
              "    }\n",
              "  </style>\n",
              "\n",
              "    <script>\n",
              "      const buttonEl =\n",
              "        document.querySelector('#df-e37296d4-3128-4532-8f9c-a2de7727143d button.colab-df-convert');\n",
              "      buttonEl.style.display =\n",
              "        google.colab.kernel.accessAllowed ? 'block' : 'none';\n",
              "\n",
              "      async function convertToInteractive(key) {\n",
              "        const element = document.querySelector('#df-e37296d4-3128-4532-8f9c-a2de7727143d');\n",
              "        const dataTable =\n",
              "          await google.colab.kernel.invokeFunction('convertToInteractive',\n",
              "                                                    [key], {});\n",
              "        if (!dataTable) return;\n",
              "\n",
              "        const docLinkHtml = 'Like what you see? Visit the ' +\n",
              "          '<a target=\"_blank\" href=https://colab.research.google.com/notebooks/data_table.ipynb>data table notebook</a>'\n",
              "          + ' to learn more about interactive tables.';\n",
              "        element.innerHTML = '';\n",
              "        dataTable['output_type'] = 'display_data';\n",
              "        await google.colab.output.renderOutput(dataTable, element);\n",
              "        const docLink = document.createElement('div');\n",
              "        docLink.innerHTML = docLinkHtml;\n",
              "        element.appendChild(docLink);\n",
              "      }\n",
              "    </script>\n",
              "  </div>\n",
              "\n",
              "\n",
              "<div id=\"df-b76bea34-92de-4534-89ba-99f4c6a50e9f\">\n",
              "  <button class=\"colab-df-quickchart\" onclick=\"quickchart('df-b76bea34-92de-4534-89ba-99f4c6a50e9f')\"\n",
              "            title=\"Suggest charts\"\n",
              "            style=\"display:none;\">\n",
              "\n",
              "<svg xmlns=\"http://www.w3.org/2000/svg\" height=\"24px\"viewBox=\"0 0 24 24\"\n",
              "     width=\"24px\">\n",
              "    <g>\n",
              "        <path d=\"M19 3H5c-1.1 0-2 .9-2 2v14c0 1.1.9 2 2 2h14c1.1 0 2-.9 2-2V5c0-1.1-.9-2-2-2zM9 17H7v-7h2v7zm4 0h-2V7h2v10zm4 0h-2v-4h2v4z\"/>\n",
              "    </g>\n",
              "</svg>\n",
              "  </button>\n",
              "\n",
              "<style>\n",
              "  .colab-df-quickchart {\n",
              "      --bg-color: #E8F0FE;\n",
              "      --fill-color: #1967D2;\n",
              "      --hover-bg-color: #E2EBFA;\n",
              "      --hover-fill-color: #174EA6;\n",
              "      --disabled-fill-color: #AAA;\n",
              "      --disabled-bg-color: #DDD;\n",
              "  }\n",
              "\n",
              "  [theme=dark] .colab-df-quickchart {\n",
              "      --bg-color: #3B4455;\n",
              "      --fill-color: #D2E3FC;\n",
              "      --hover-bg-color: #434B5C;\n",
              "      --hover-fill-color: #FFFFFF;\n",
              "      --disabled-bg-color: #3B4455;\n",
              "      --disabled-fill-color: #666;\n",
              "  }\n",
              "\n",
              "  .colab-df-quickchart {\n",
              "    background-color: var(--bg-color);\n",
              "    border: none;\n",
              "    border-radius: 50%;\n",
              "    cursor: pointer;\n",
              "    display: none;\n",
              "    fill: var(--fill-color);\n",
              "    height: 32px;\n",
              "    padding: 0;\n",
              "    width: 32px;\n",
              "  }\n",
              "\n",
              "  .colab-df-quickchart:hover {\n",
              "    background-color: var(--hover-bg-color);\n",
              "    box-shadow: 0 1px 2px rgba(60, 64, 67, 0.3), 0 1px 3px 1px rgba(60, 64, 67, 0.15);\n",
              "    fill: var(--button-hover-fill-color);\n",
              "  }\n",
              "\n",
              "  .colab-df-quickchart-complete:disabled,\n",
              "  .colab-df-quickchart-complete:disabled:hover {\n",
              "    background-color: var(--disabled-bg-color);\n",
              "    fill: var(--disabled-fill-color);\n",
              "    box-shadow: none;\n",
              "  }\n",
              "\n",
              "  .colab-df-spinner {\n",
              "    border: 2px solid var(--fill-color);\n",
              "    border-color: transparent;\n",
              "    border-bottom-color: var(--fill-color);\n",
              "    animation:\n",
              "      spin 1s steps(1) infinite;\n",
              "  }\n",
              "\n",
              "  @keyframes spin {\n",
              "    0% {\n",
              "      border-color: transparent;\n",
              "      border-bottom-color: var(--fill-color);\n",
              "      border-left-color: var(--fill-color);\n",
              "    }\n",
              "    20% {\n",
              "      border-color: transparent;\n",
              "      border-left-color: var(--fill-color);\n",
              "      border-top-color: var(--fill-color);\n",
              "    }\n",
              "    30% {\n",
              "      border-color: transparent;\n",
              "      border-left-color: var(--fill-color);\n",
              "      border-top-color: var(--fill-color);\n",
              "      border-right-color: var(--fill-color);\n",
              "    }\n",
              "    40% {\n",
              "      border-color: transparent;\n",
              "      border-right-color: var(--fill-color);\n",
              "      border-top-color: var(--fill-color);\n",
              "    }\n",
              "    60% {\n",
              "      border-color: transparent;\n",
              "      border-right-color: var(--fill-color);\n",
              "    }\n",
              "    80% {\n",
              "      border-color: transparent;\n",
              "      border-right-color: var(--fill-color);\n",
              "      border-bottom-color: var(--fill-color);\n",
              "    }\n",
              "    90% {\n",
              "      border-color: transparent;\n",
              "      border-bottom-color: var(--fill-color);\n",
              "    }\n",
              "  }\n",
              "</style>\n",
              "\n",
              "  <script>\n",
              "    async function quickchart(key) {\n",
              "      const quickchartButtonEl =\n",
              "        document.querySelector('#' + key + ' button');\n",
              "      quickchartButtonEl.disabled = true;  // To prevent multiple clicks.\n",
              "      quickchartButtonEl.classList.add('colab-df-spinner');\n",
              "      try {\n",
              "        const charts = await google.colab.kernel.invokeFunction(\n",
              "            'suggestCharts', [key], {});\n",
              "      } catch (error) {\n",
              "        console.error('Error during call to suggestCharts:', error);\n",
              "      }\n",
              "      quickchartButtonEl.classList.remove('colab-df-spinner');\n",
              "      quickchartButtonEl.classList.add('colab-df-quickchart-complete');\n",
              "    }\n",
              "    (() => {\n",
              "      let quickchartButtonEl =\n",
              "        document.querySelector('#df-b76bea34-92de-4534-89ba-99f4c6a50e9f button');\n",
              "      quickchartButtonEl.style.display =\n",
              "        google.colab.kernel.accessAllowed ? 'block' : 'none';\n",
              "    })();\n",
              "  </script>\n",
              "</div>\n",
              "    </div>\n",
              "  </div>\n"
            ],
            "text/plain": [
              "                                     page_url  \\\n",
              "0  https://scikit-learn.org/stable/index.html   \n",
              "1  https://scikit-learn.org/stable/index.html   \n",
              "2  https://scikit-learn.org/stable/index.html   \n",
              "3  https://scikit-learn.org/stable/index.html   \n",
              "4  https://scikit-learn.org/stable/index.html   \n",
              "\n",
              "                                          page_title page_length   link_text  \\\n",
              "0  scikit-learn: machine learning in Python — sci...       27767     Install   \n",
              "1  scikit-learn: machine learning in Python — sci...       27767  User Guide   \n",
              "2  scikit-learn: machine learning in Python — sci...       27767         API   \n",
              "3  scikit-learn: machine learning in Python — sci...       27767    Examples   \n",
              "4  scikit-learn: machine learning in Python — sci...       27767   Community   \n",
              "\n",
              "                        link_href  \\\n",
              "0                    install.html   \n",
              "1                 user_guide.html   \n",
              "2            modules/classes.html   \n",
              "3        auto_examples/index.html   \n",
              "4  https://blog.scikit-learn.org/   \n",
              "\n",
              "                                            link_url  \n",
              "0       https://scikit-learn.org/stable/install.html  \n",
              "1    https://scikit-learn.org/stable/user_guide.html  \n",
              "2  https://scikit-learn.org/stable/modules/classe...  \n",
              "3  https://scikit-learn.org/stable/auto_examples/...  \n",
              "4                     https://blog.scikit-learn.org/  "
            ]
          },
          "execution_count": 3,
          "metadata": {},
          "output_type": "execute_result"
        }
      ],
      "source": [
        "# Importing the dataset\n",
        "df = pd.read_csv('sklearn-anatomy.csv', dtype=str)\n",
        "# Taking a look into the dataset...\n",
        "df.head(5)"
      ]
    },
    {
      "cell_type": "markdown",
      "metadata": {
        "id": "SBqrjG3p4Qda"
      },
      "source": [
        "It seems that each row contains a hyperlink from a webpage to another webpage. The \"page_url\" contains the urls of the page that contains the hyperlink and \"link_url\" contains the link of the referred page. We do not need other columns; therefore, here is how we clean our data and build the dataset:\n",
        "- 1) Only keep the first and last columns (origin and destination of an edge)\n",
        "- 2) Make a dictionary of all webpages to their indexes (nodes of the graph)\n",
        "- 3) Consider a zero matrix where each webpage has a row and a columns in the matrix\n",
        "- 4) Replace the address of each webpage with its index in the matrix\n",
        "- 5) For each element (i, j), add it by 1 unit if there is an edge from the page (node) j to i. This is our adjacency matrix.\n",
        "- 6) Normalize columns of the previous matrix to achieve the transition matrix."
      ]
    },
    {
      "cell_type": "code",
      "execution_count": 4,
      "metadata": {
        "colab": {
          "base_uri": "https://localhost:8080/"
        },
        "id": "ErgTn_V74Qdb",
        "outputId": "59d200d8-1297-4ad7-a742-8e4a78237e03"
      },
      "outputs": [
        {
          "name": "stdout",
          "output_type": "stream",
          "text": [
            "#Webpages =  6026\n"
          ]
        },
        {
          "name": "stderr",
          "output_type": "stream",
          "text": [
            "<ipython-input-4-35928815f5f6>:10: SettingWithCopyWarning: \n",
            "A value is trying to be set on a copy of a slice from a DataFrame.\n",
            "Try using .loc[row_indexer,col_indexer] = value instead\n",
            "\n",
            "See the caveats in the documentation: https://pandas.pydata.org/pandas-docs/stable/user_guide/indexing.html#returning-a-view-versus-a-copy\n",
            "  links.iloc[:,0] = links.iloc[:,0].map( pages )\n",
            "<ipython-input-4-35928815f5f6>:10: DeprecationWarning: In a future version, `df.iloc[:, i] = newvals` will attempt to set the values inplace instead of always setting a new array. To retain the old behavior, use either `df[df.columns[i]] = newvals` or, if columns are non-unique, `df.isetitem(i, newvals)`\n",
            "  links.iloc[:,0] = links.iloc[:,0].map( pages )\n",
            "<ipython-input-4-35928815f5f6>:11: SettingWithCopyWarning: \n",
            "A value is trying to be set on a copy of a slice from a DataFrame.\n",
            "Try using .loc[row_indexer,col_indexer] = value instead\n",
            "\n",
            "See the caveats in the documentation: https://pandas.pydata.org/pandas-docs/stable/user_guide/indexing.html#returning-a-view-versus-a-copy\n",
            "  links.iloc[:,1] = links.iloc[:,1].map( pages )\n",
            "<ipython-input-4-35928815f5f6>:11: DeprecationWarning: In a future version, `df.iloc[:, i] = newvals` will attempt to set the values inplace instead of always setting a new array. To retain the old behavior, use either `df[df.columns[i]] = newvals` or, if columns are non-unique, `df.isetitem(i, newvals)`\n",
            "  links.iloc[:,1] = links.iloc[:,1].map( pages )\n"
          ]
        }
      ],
      "source": [
        "# Step 1\n",
        "links = df[ [df.columns[0], df.columns[-1]] ]\n",
        "# Step 2\n",
        "pages = np.unique( links.to_numpy() ).tolist()\n",
        "pages = {val: idx for idx, val in enumerate(pages)}\n",
        "print('#Webpages = ', len(pages))\n",
        "# Step 3\n",
        "adj_mat = np.zeros( (len(pages), len(pages)) )\n",
        "# Step 4\n",
        "links.iloc[:,0] = links.iloc[:,0].map( pages )\n",
        "links.iloc[:,1] = links.iloc[:,1].map( pages )\n",
        "# Step 5\n",
        "def add_edge(x):\n",
        "    adj_mat[ x[1], x[0] ] += 1\n",
        "    return x\n",
        "links.apply(lambda x: add_edge(x), axis=1)\n",
        "# Step 6\n",
        "trans_mat = adj_mat / (adj_mat.sum(axis=0) + 1e-6)"
      ]
    },
    {
      "cell_type": "markdown",
      "metadata": {
        "id": "x4P9s4aa4Qdc"
      },
      "source": [
        "Awesome! Notice that as we anticipated, our matrix is 6026x6026 and it is sparse."
      ]
    },
    {
      "cell_type": "markdown",
      "metadata": {
        "id": "Sxr3SFz44Ngl"
      },
      "source": [
        "<a name=\"challenges\"></a>\n",
        "\n",
        "#Challenges 🔨\n",
        "\n",
        "---\n",
        "\n",
        "Now, in this section, we will **implement** and **apply** the page rank algorithm."
      ]
    },
    {
      "cell_type": "markdown",
      "metadata": {
        "id": "wIoz9Fzv6T7D"
      },
      "source": [
        "<a name=\"implementation\"></a>\n",
        "\n",
        "###Implementation of the Page Rank 🌟\n",
        "\n",
        "---\n",
        "\n",
        "Here we implement the page rank method, which takes the Q matrix (arg : transition_matrix) and apply the page rank algorithm. We implement it through two approaches\n",
        "\n",
        "1. Making P & A matrice, and calculating the eigenvector of A that is equivalent to the biggest eigenvalue (which is 1). Through experiments, I realized that this method is not the most efficient approach. It is due to the fact that P & A matrices are much less sparse that the Q matrix and therefore, it takes much more time to apply the np.linalg.eig or the handmade implementation of the power method.\n",
        "\n",
        "2. Another approach is to calculate the mentioned eigenvector directly using the matrix Q. Q is much more sparse and it takes much less time and memory to use this approach.\n",
        "\n",
        "Feel free to uncomment the different approaches to test their performance.\n"
      ]
    },
    {
      "cell_type": "code",
      "execution_count": 2,
      "metadata": {
        "id": "19ehOcmU4Qde"
      },
      "outputs": [],
      "source": [
        "def page_rank(transition_matrix, alpha=0.85, iters=1000):\n",
        "    \"\"\"\n",
        "    transion_matrix: The transition matrix of our MDP (Q matrix)\n",
        "    alpha: Damping factor of the Page Rank Algorithm\n",
        "    iters: Total number of iterations for the Power method (for Approaches 2 & 3)\n",
        "    \"\"\"\n",
        "    # Approach 1) making P & A matrices + np.linalg.eig\n",
        "    # --------------------------------------------------\n",
        "    # P = transition_matrix.copy()\n",
        "    # n = P.shape[1]\n",
        "    # zero_columns = np.where(~P.any(axis=0))[0]\n",
        "    # P[:, zero_columns] = 1/n\n",
        "    # A = alpha * P + (1 - alpha) * (1/n) * np.ones((n, n))\n",
        "    # eigvals, eigvects = np.linalg.eig(A)\n",
        "    # max_eig_vect = eigvects[:, eigvals.argmax()].abs()\n",
        "    # return max_eig_vect\n",
        "    # --------------------------------------------------\n",
        "\n",
        "\n",
        "    # Approach 2) making P & A matrices + scipy.sparse.csr_array + Power method\n",
        "    # --------------------------------------------------\n",
        "    # P = transition_matrix.copy()\n",
        "    # n = P.shape[1]\n",
        "    # zero_columns = np.where(~P.any(axis=0))[0]\n",
        "    # P[:, zero_columns] = 1/n\n",
        "    # A = alpha * P + (1 - alpha) * (1/n) * np.ones((n, n))\n",
        "    # x = np.zeros(n)\n",
        "    # x[0] = 1\n",
        "    # for _ in range(iters):\n",
        "    #     x_new = A @ x\n",
        "    #     print(x)\n",
        "    #     if np.allclose(x, x_new, atol=1e-10, rtol=1e-10):\n",
        "    #         break\n",
        "    #     x = x_new\n",
        "    # return x\n",
        "    # --------------------------------------------------\n",
        "\n",
        "    # Approach 3) Q + scipy.sparse.csr_array + Power method\n",
        "    # ---------------- Fastest Approach ----------------\n",
        "    Q = csr_array(transition_matrix)\n",
        "    n = Q.shape[1]\n",
        "    z = np.zeros(n)\n",
        "    z[0] = 1\n",
        "    for _ in range(iters):\n",
        "        beta = 1 - np.linalg.norm(alpha * Q @ z, 1)\n",
        "        z_new = alpha * Q @ z + (beta / n)\n",
        "        if np.allclose(z, z_new, atol=1e-10, rtol=1e-10):\n",
        "            break\n",
        "        z = z_new\n",
        "    return z\n",
        "    # --------------------------------------------------"
      ]
    },
    {
      "cell_type": "markdown",
      "metadata": {
        "id": "Vb1YeHn94Qde"
      },
      "source": [
        "Now, we test our method on an example from the class to make sure it work..."
      ]
    },
    {
      "cell_type": "code",
      "execution_count": 6,
      "metadata": {
        "colab": {
          "base_uri": "https://localhost:8080/"
        },
        "id": "nQlsKAL54Qdf",
        "outputId": "5b1c0927-23c6-4f88-f0a8-cf622ea2ab6a"
      },
      "outputs": [
        {
          "data": {
            "text/plain": [
              "array([0.19524854, 0.1877924 , 0.1877924 , 0.025     , 0.20495495,\n",
              "       0.19921171])"
            ]
          },
          "execution_count": 6,
          "metadata": {},
          "output_type": "execute_result"
        }
      ],
      "source": [
        "P = np.array(\n",
        "    [\n",
        "    [0  , 1/2, 1/2, 1/2, 0, 0],\n",
        "    [1/2,  0 , 1/2, 0  , 0, 0],\n",
        "    [1/2, 1/2, 0  , 0  , 0, 0],\n",
        "    [0  ,  0 , 0  , 0  , 0, 0],\n",
        "    [0  ,  0 , 0  , 1/2, 0, 1],\n",
        "    [0  ,  0 , 0  , 0  , 1, 0]\n",
        "     ]\n",
        ")\n",
        "page_rank(P)"
      ]
    },
    {
      "cell_type": "markdown",
      "metadata": {
        "id": "Xd3rkH-N4Qdf"
      },
      "source": [
        "Awesome! Now that it works, lets proceed."
      ]
    },
    {
      "cell_type": "markdown",
      "metadata": {
        "id": "eWHN4Q17KAcO"
      },
      "source": [
        "<a name=\"apply\"></a>\n",
        "\n",
        "###Applying the Page Rank\n",
        "\n",
        "---\n",
        "\n",
        "Finally, we apply our implemented method on the net of sklearn webpages to calculate their rankings."
      ]
    },
    {
      "cell_type": "code",
      "execution_count": 7,
      "metadata": {
        "colab": {
          "base_uri": "https://localhost:8080/"
        },
        "id": "zw1eOnQQ4Qdg",
        "outputId": "4c06bb47-caf7-4460-e4eb-935470d6492c"
      },
      "outputs": [
        {
          "name": "stdout",
          "output_type": "stream",
          "text": [
            "[0.00014693 0.00012903 0.00013533 ... 0.0001303  0.0001303  0.00013075]\n"
          ]
        }
      ],
      "source": [
        "# Applying the page rank\n",
        "rankings_vect = page_rank(trans_mat)\n",
        "print(rankings_vect)"
      ]
    },
    {
      "cell_type": "markdown",
      "metadata": {
        "id": "fja-aPBg4Qdh"
      },
      "source": [
        "Keep in mind that we have 22835 webapges; therefore, rankings_vect has 22835 elements. Therefore, we just extract the Top 10 pages..."
      ]
    },
    {
      "cell_type": "code",
      "execution_count": 8,
      "metadata": {
        "colab": {
          "base_uri": "https://localhost:8080/"
        },
        "id": "w0dZZBwY4Qdh",
        "outputId": "b4ab92a5-fd9c-4677-ab1e-35e9eba23098"
      },
      "outputs": [
        {
          "name": "stdout",
          "output_type": "stream",
          "text": [
            "Top 10 webpages: \n",
            "1) https://scikit-learn.org/stable/glossary.html\n",
            "2) https://scikit-learn.org/stable/about.html\n",
            "3) https://scikit-learn.org/stable/modules/classes.html\n",
            "4) https://scikit-learn.org/stable/related_projects.html\n",
            "5) https://scikit-learn.org/stable/faq.html\n",
            "6) https://scikit-learn.org/stable/tutorial/index.html\n",
            "7) https://github.com/scikit-learn/scikit-learn\n",
            "8) https://scikit-learn.org/stable/whats_new/v1.1.html\n",
            "9) https://scikit-learn.org/dev/versions.html\n",
            "10) https://scikit-learn.org/dev/developers/index.html\n"
          ]
        }
      ],
      "source": [
        "# Feel free to change k to print k top pages\n",
        "k = 10\n",
        "# Sorting webpages based on their ranking values\n",
        "ranking_vals = list( zip(rankings_vect.tolist(), list(range(rankings_vect.shape[0]))) )\n",
        "sorted_by_ranks = [idx for val,idx in sorted(ranking_vals, reverse=True)]\n",
        "# Filtering index of Top k pages\n",
        "topk_idx = sorted_by_ranks[:k]\n",
        "# Printing the url of Top k pages\n",
        "keys = list(pages.keys())\n",
        "topk = [keys[i] for i in topk_idx]\n",
        "print(f'Top {k} webpages: ')\n",
        "for rank, url in enumerate(topk):\n",
        "    print(f'{rank+1}) {url}')"
      ]
    },
    {
      "cell_type": "markdown",
      "metadata": {
        "id": "ucxKdIaM4Qdi"
      },
      "source": [
        "You can also change k in the above cell to print the K top webapges."
      ]
    },
    {
      "cell_type": "markdown",
      "metadata": {
        "id": "TL60G2uV4Qdi"
      },
      "source": [
        "<a name=\"bonus\"></a>\n",
        "\n",
        "#Bonus Problem ➕\n",
        "\n",
        "---\n",
        "\n",
        "Problem Statement:\n",
        "\n",
        "Model the roads in the image below as a directed graph and apply the page rank algorithm to rank these roads."
      ]
    },
    {
      "cell_type": "code",
      "execution_count": 9,
      "metadata": {
        "id": "SyBhTpg44Qdi"
      },
      "outputs": [],
      "source": [
        "%%capture\n",
        "!gdown '15gBiY7VmxW6A3x-1AXr3WppUVKjaho7_'"
      ]
    },
    {
      "cell_type": "code",
      "execution_count": 10,
      "metadata": {
        "colab": {
          "base_uri": "https://localhost:8080/",
          "height": 242
        },
        "id": "OHMDM4JQ4Qdj",
        "outputId": "edbf6425-87aa-40f8-a863-243481a33735"
      },
      "outputs": [
        {
          "data": {
            "image/jpeg": "[encoded data removed]",
            "text/plain": [
              "<IPython.core.display.Image object>"
            ]
          },
          "metadata": {},
          "output_type": "display_data"
        }
      ],
      "source": [
        "from IPython.display import display, Image\n",
        "display(Image(filename='roads.jpeg'))"
      ]
    },
    {
      "cell_type": "markdown",
      "metadata": {
        "id": "Wcp6Az594Qdj"
      },
      "source": [
        "First, we construct our transition matrix. We consider roads to be continous, so if a road ends in ean dge of the map, it continues on another side of the map."
      ]
    },
    {
      "cell_type": "code",
      "execution_count": 3,
      "metadata": {
        "id": "yXIHRx2S4Qdk"
      },
      "outputs": [],
      "source": [
        "# Initializing roads\n",
        "roads = ['A1', 'A2', 'A3', 'B1', 'B2', 'B3', 'D1', 'D2', 'E1', 'E2', 'E3']\n",
        "# Initializing the transition matrix\n",
        "Q = [   #A1, A2, A3, B1, B2, B3, D1, D2, E1, E2, E3\n",
        "        [0,   0,  0,  0,  0,  0,  0,  0,  0,  0,  0], #A1\n",
        "        [1/2, 0,  0,  0,  0,  0, 1/2, 0,  0,  0,  0], #A2\n",
        "        [0,  1/2, 0,  0,  0,  0,  0,  0, 1/2,1/3, 0], #A3\n",
        "        [0,   0,  0,  0,  0,  0,  0,  0,  0,  0,  0], #B1\n",
        "        [0,   0,  0, 1/2, 0,  0,  0,  0,  0, 1/3,1/2], #B2\n",
        "        [0,   0,  0,  0,  1,  0,  0,  1,  0,  0,  0], #B3\n",
        "        [0,   0,  0,  0,  0,  0,  0,  0,  0,  0,  0], #D1\n",
        "        [1/2, 0,  0,  0,  0,  0, 1/2, 0,  0,  0,  0], #D2\n",
        "        [0,   0,  0,  0,  0,  0,  0,  0,  0,  0,  0], #E1\n",
        "        [0,  1/2,  0,1/2, 0,  0,  0,  0, 1/2, 1/3,1/2], #E2\n",
        "        [0,   0,  0,  0,  0,  0,  0,  0,  0,  0,  0], #E3\n",
        "]\n",
        "Q = np.array(Q)"
      ]
    },
    {
      "cell_type": "markdown",
      "metadata": {
        "id": "MQYGObLx4Qdk"
      },
      "source": [
        "Now, lets apply the page rank method on this matrix..."
      ]
    },
    {
      "cell_type": "code",
      "execution_count": 4,
      "metadata": {
        "colab": {
          "base_uri": "https://localhost:8080/"
        },
        "id": "OPYR50gG4Qdl",
        "outputId": "26f4f797-5e56-4216-fb50-27ea3f2a6e3e"
      },
      "outputs": [
        {
          "name": "stdout",
          "output_type": "stream",
          "text": [
            "[0.04060583 0.07512078 0.13893331 0.04060583 0.12426445 0.21008328\n",
            " 0.04060583 0.07512078 0.04060583 0.17344826 0.04060583]\n"
          ]
        }
      ],
      "source": [
        "# Applying the page rank\n",
        "rank_vals = page_rank(Q)\n",
        "print(rank_vals)"
      ]
    },
    {
      "cell_type": "code",
      "execution_count": 12,
      "metadata": {},
      "outputs": [],
      "source": [
        "import pyperclip\n",
        "pyperclip.copy(' \\\\\\\\ \\n '.join([str(val) for val in rank_vals.round(6)]))"
      ]
    },
    {
      "cell_type": "markdown",
      "metadata": {
        "id": "5b7FCQAf4Qdl"
      },
      "source": [
        "Finally, we sort roads based on their rank values and print their rankings."
      ]
    },
    {
      "cell_type": "code",
      "execution_count": 13,
      "metadata": {
        "colab": {
          "base_uri": "https://localhost:8080/"
        },
        "id": "Ko5_dnZ04Qdl",
        "outputId": "4aa7f1da-3b1f-467e-f648-fae9237f4208"
      },
      "outputs": [
        {
          "name": "stdout",
          "output_type": "stream",
          "text": [
            "Road rankings: \n",
            "1) B3\n",
            "2) E2\n",
            "3) A3\n",
            "4) B2\n",
            "5) D2\n",
            "6) A2\n",
            "7) E3\n",
            "8) E1\n",
            "9) D1\n",
            "10) B1\n",
            "11) A1\n"
          ]
        }
      ],
      "source": [
        "# Sorting webpages based on their ranking values\n",
        "roads_vals = list( zip(rank_vals.tolist(), list(range(rank_vals.shape[0]))) )\n",
        "sorted_by_vals = [idx for val,idx in sorted(roads_vals, reverse=True)]\n",
        "# Printing road rankings\n",
        "rankings = [roads[i] for i in sorted_by_vals]\n",
        "print(f'Road rankings: ')\n",
        "for rank, road in enumerate(rankings):\n",
        "    print(f'{rank+1}) {road}')"
      ]
    },
    {
      "cell_type": "markdown",
      "metadata": {
        "id": "ymM3bE0fVQS9"
      },
      "source": [
        "\n",
        "Thanks for you valuable time and attention! This notebook is available in the link below😀\n",
        "\n",
        "https://drive.google.com/file/d/1K9HOI0ZD_11GeXh8gFx7aKU3h43zDPFh/view?usp=sharing"
      ]
    }
  ],
  "metadata": {
    "colab": {
      "provenance": []
    },
    "kernelspec": {
      "display_name": "Python 3",
      "name": "python3"
    },
    "language_info": {
      "codemirror_mode": {
        "name": "ipython",
        "version": 3
      },
      "file_extension": ".py",
      "mimetype": "text/x-python",
      "name": "python",
      "nbconvert_exporter": "python",
      "pygments_lexer": "ipython3",
      "version": "3.10.12"
    }
  },
  "nbformat": 4,
  "nbformat_minor": 0
}
