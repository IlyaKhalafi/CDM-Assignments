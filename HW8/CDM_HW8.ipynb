{
  "cells": [
    {
      "cell_type": "markdown",
      "metadata": {
        "id": "NchqVoT3OL8f"
      },
      "source": [
        "# Face Recognition Using Higher Order SVD (Tensorfaces Algorithm)\n",
        "\n",
        "---\n",
        "#### Course: Computational Data Mining\n",
        "#### Professor: Dr. Fatemeh Shakeri\n",
        "#### Student: Ilya Khalafi\n",
        "#### Student ID: 9913039\n",
        "#### December 2023"
      ]
    },
    {
      "cell_type": "markdown",
      "metadata": {
        "id": "ZuZQ4wht7zlb"
      },
      "source": [
        "# Table Of Contents\n",
        "- [Introduction](#intro)\n",
        "- [Dependencies](#dependency)\n",
        "- [Importing the Dataset](#dataset)\n",
        "  - [Downloading the Dataset](#download)\n",
        "  - [Importing File Addresses](#address)\n",
        "  - [Importing Images into a Tensor](#tensor)\n",
        "- [Implementations](#implement)\n",
        "  - [Folding](#fold)\n",
        "  - [Unfolding](#unfold)\n",
        "  - [Multiplication](#multiply)\n",
        "  - [Higher-Order SVD](#hosvd)\n",
        "  - [Classifier](#classifier)\n",
        "- [Applying the Classifier](#apply)\n",
        "- [Visualization & Final Conclusion](#conclusion)"
      ]
    },
    {
      "cell_type": "markdown",
      "metadata": {
        "id": "ZpkdYRqO5VEj"
      },
      "source": [
        "<a name=\"intro\"></a>\n",
        "\n",
        "# Introduction 📚\n",
        "\n",
        "---\n",
        "\n",
        "One of the important tasks in computer vision and image processing  face recognition, where we are supposed to come up with a model that learns features of faces that are present in a dataset and then use its knowledge to recognize the identity of a new test face.\n",
        "\n",
        "<img src=\"https://raw.githubusercontent.com/serengil/deepface/master/icon/stock-1.jpg\" width=\"400\"/>\n",
        "\n",
        "There are several naive and sophisticated solutions for this problems, from the classic algorithms such as Eigenfaces, to the most modern ones such as Convolutional neural networks.\n",
        "\n",
        "In this article, we utilize the Higher-Order Singular Value Decomposition, or HOSVD in short, to recognize identity of faces along their predefined situitations such as happiness, sad or different light settings. Our method is similar to the Eigenfaces algorithm, but with 2 main differences:\n",
        "\n",
        "1. The Eigenfaces algorithm does not take into account the emotion or photographic situitations of the image.\n",
        "\n",
        "2. The Eigenfaces algorithm is implemented on a matrix of faces, where each column is a image of a face, but here we will consider a 3D tensor, where each column is an image, and each vertical layer of our tensor is a set of images of a single person."
      ]
    },
    {
      "cell_type": "markdown",
      "metadata": {
        "id": "vXR_nHyMBCVI"
      },
      "source": [
        "<a name=\"dependency\"></a>\n",
        "\n",
        "#Dependencies 🧰\n",
        "\n",
        "---\n",
        "\n",
        "We need the following libraries during this article:\n",
        "\n",
        "- **numpy** : <br />\n",
        "    numpy is a commonly used library for doing scientific computation. Unlike python default pointer structure, numpy saves variables inplace and continous on RAM and also provides sophisticated methods that use parallelism to make our computations much faster.\n",
        "\n",
        "- **pandas**: <br />\n",
        "    pandas is well-known in data science for its useful methods for reading and manipulating the data.\n",
        "\n",
        "- **matplotlib**: <br />\n",
        "    matplotlib is a super useful python library for drawing charts and data visualization. We use it to plot our facial images.\n",
        "\n",
        "- **seaborn** : <br />\n",
        "    seaborn is built on matplotlib and provides many chart templates for us so we don't need to draw and build every components of our charts with matplotlib. We will use it to plot the final confusion matrix.\n",
        "\n",
        "- **PIL** :\n",
        "    PIL or Pillow library is a common well-known library for image processing. It helps us to read, manipulate and save images. We will use it together with OpenCV.\n"
      ]
    },
    {
      "cell_type": "code",
      "execution_count": null,
      "metadata": {
        "id": "sd9VGeCJBDXg"
      },
      "outputs": [],
      "source": [
        "%%capture\n",
        "# Python Standard Libraries\n",
        "import os\n",
        "import math\n",
        "import random\n",
        "# Fundamental Data Analysis & Visualization Tools\n",
        "import numpy as np\n",
        "import pandas as pd\n",
        "from matplotlib import pyplot as plt\n",
        "import seaborn as sns\n",
        "from PIL import Image"
      ]
    },
    {
      "cell_type": "markdown",
      "metadata": {
        "id": "dufiEBk54QdX"
      },
      "source": [
        "<a name=\"dataset\"></a>\n",
        "\n",
        "#Importing the Dataset 🔽\n",
        "\n",
        "---\n",
        "\n",
        "Here we download the dataset of facial images from my google drive, then we import it using the pandas library."
      ]
    },
    {
      "cell_type": "markdown",
      "metadata": {
        "id": "f3Q7CYvdAioI"
      },
      "source": [
        "<a name=\"download\"></a>\n",
        "\n",
        "###Downloading the Dataset\n",
        "\n",
        "---\n",
        "\n",
        "Here we download the dataset of facial images from my google drive, then we import it using the pandas library."
      ]
    },
    {
      "cell_type": "code",
      "execution_count": null,
      "metadata": {
        "id": "dUdLIRQM4QdX"
      },
      "outputs": [],
      "source": [
        "%%capture\n",
        "# Downloading the dataset\n",
        "!gdown '1LuEMbkvGVjZHVSr0saciNfZF4SKHiM0I'"
      ]
    },
    {
      "cell_type": "markdown",
      "metadata": {
        "id": "N5dgTeVmaOLc"
      },
      "source": [
        "Now, we unzip this file to get the folder containing train and test images."
      ]
    },
    {
      "cell_type": "code",
      "execution_count": null,
      "metadata": {
        "id": "15jI-Hs04QdY"
      },
      "outputs": [],
      "source": [
        "%%capture\n",
        "# Unzipping the datafile\n",
        "!unzip YALE_faces.zip"
      ]
    },
    {
      "cell_type": "markdown",
      "metadata": {
        "id": "kb46K5dwAioK"
      },
      "source": [
        "<a name=\"address\"></a>\n",
        "\n",
        "###Importing File Addresses\n",
        "\n",
        "---\n",
        "\n",
        "Next, we must import address of each train and test image from train and test folders that are present inside our dataset folder..."
      ]
    },
    {
      "cell_type": "code",
      "execution_count": null,
      "metadata": {
        "id": "ZEVJd46OAioK",
        "outputId": "a567b351-8cc8-4d75-f703-a8459997dfff"
      },
      "outputs": [
        {
          "name": "stdout",
          "output_type": "stream",
          "text": [
            "Successfully Imported Addresses!\n"
          ]
        }
      ],
      "source": [
        "# Defining Directories\n",
        "train_dr = os.path.join('YALE_faces', 'train')\n",
        "test_dr = os.path.join('YALE_faces', 'test')\n",
        "# Browsing Train Directory\n",
        "train_paths = [os.path.join(train_dr,addr) for addr in os.listdir(train_dr)]\n",
        "# Browsing Test Directory\n",
        "test_paths = [os.path.join(test_dr,addr) for addr in os.listdir(test_dr)]\n",
        "# Print Success Message\n",
        "print('Successfully Imported Addresses!')"
      ]
    },
    {
      "cell_type": "markdown",
      "metadata": {
        "id": "xopyQqmOAioL"
      },
      "source": [
        "Lets demonstrate a random photo for a quick preview!"
      ]
    },
    {
      "cell_type": "code",
      "execution_count": null,
      "metadata": {
        "id": "kftPvbFxAioL",
        "outputId": "8d86bea7-a968-4613-bc72-db1c6df093ab"
      },
      "outputs": [
        {
          "data": {
            "text/plain": [
              "<matplotlib.image.AxesImage at 0x7f24657fb190>"
            ]
          },
          "execution_count": 3,
          "metadata": {},
          "output_type": "execute_result"
        },
        {
          "data": {
            "image/png": "[encoded data removed]",
            "text/plain": [
              "<Figure size 400x800 with 1 Axes>"
            ]
          },
          "metadata": {},
          "output_type": "display_data"
        }
      ],
      "source": [
        "# Selecting a Random Image\n",
        "img_addr = random.choice(train_paths)\n",
        "sample_img = np.array(Image.open(img_addr))\n",
        "# Displaying the Image\n",
        "plt.figure(figsize=(4,8))\n",
        "plt.axis('off')\n",
        "plt.title(f'{img_addr}', y=-0.1)\n",
        "plt.imshow(sample_img, cmap='gray')"
      ]
    },
    {
      "cell_type": "markdown",
      "metadata": {
        "id": "oSu62nVJAioL"
      },
      "source": [
        "Additionally, lets see how each image is represented in a numpy format:"
      ]
    },
    {
      "cell_type": "code",
      "execution_count": null,
      "metadata": {
        "id": "xcwf7LIFAioL",
        "outputId": "46ad486c-9831-40c7-985e-4fd7511dc0eb"
      },
      "outputs": [
        {
          "name": "stdout",
          "output_type": "stream",
          "text": [
            "Image shape: (243, 320)\n",
            "Total #Elements: 77760\n"
          ]
        }
      ],
      "source": [
        "print(f'Image shape: {sample_img.shape}')\n",
        "print(f'Total #Elements: {math.prod(sample_img.shape)}')"
      ]
    },
    {
      "cell_type": "markdown",
      "metadata": {
        "id": "sJt4sPyhAioM"
      },
      "source": [
        "So each image is a 243 x 320 matrix with 77760 elements in total. We will use this piece of information in the section to stack vectors of our images and build a 3D tensor."
      ]
    },
    {
      "cell_type": "markdown",
      "metadata": {
        "id": "cavXwHL2AioM"
      },
      "source": [
        "<a name=\"tensor\"></a>\n",
        "\n",
        "###Importing Images into a Tensor\n",
        "\n",
        "---\n",
        "\n",
        "-> According to the class notation, A(:, :, p) shows all images of a single person in different settings, and A(:, e, :) and shows image of all people in an emotion or a setting, where A is our 3D tensor of images. Here, we construct this 3D tensor and additionally, we keep order of subjects and emotion in two different lists named \"subjs\" and \"emos\"."
      ]
    },
    {
      "cell_type": "code",
      "execution_count": null,
      "metadata": {
        "id": "JaXFeqo5AioM"
      },
      "outputs": [],
      "source": [
        "# Defining lists for subject and emotion labels of train images\n",
        "train_emos = list(set([addr.split(os.sep)[-1].split('.')[1] for addr in train_paths]))\n",
        "train_subjs = list(set([addr.split(os.sep)[-1].split('.')[0] for addr in train_paths]))\n",
        "\n",
        "# Constructing the tensor of train images\n",
        "A = np.zeros((77760, len(train_emos), len(train_subjs)))\n",
        "for path in train_paths:\n",
        "    filename = path.split(os.sep)[-1]\n",
        "    emo_index = train_emos.index(filename.split('.')[1])\n",
        "    subj_index = train_subjs.index(filename.split('.')[0])\n",
        "    A[:, emo_index, subj_index] = np.array(Image.open(path)).flatten()\n",
        "\n",
        "# Defining lists for subject and emotion labels of test images\n",
        "test_emos = []\n",
        "test_subjs = []\n",
        "\n",
        "# Constructing the tensor of test images\n",
        "test_imgs = np.zeros((77760, len(test_paths)))\n",
        "for i, path in enumerate(test_paths):\n",
        "    filename = path.split(os.sep)[-1]\n",
        "    test_emos.append(filename.split('.')[1])\n",
        "    test_subjs.append(filename.split('.')[0])\n",
        "    test_imgs[:, i] = np.array(Image.open(path)).flatten()"
      ]
    },
    {
      "cell_type": "markdown",
      "metadata": {
        "id": "30L_6kjFAioM"
      },
      "source": [
        "Now, that we have made tensor of train and test images, lets reconstruct one of the images from this tensor to validate its data..."
      ]
    },
    {
      "cell_type": "code",
      "execution_count": null,
      "metadata": {
        "id": "pWZmVMQ9AioM",
        "outputId": "95d4ac38-8e6b-49fd-f31f-790b2f1744ee"
      },
      "outputs": [
        {
          "data": {
            "text/plain": [
              "<matplotlib.image.AxesImage at 0x7f24655cfd60>"
            ]
          },
          "execution_count": 6,
          "metadata": {},
          "output_type": "execute_result"
        },
        {
          "data": {
            "image/png": "[encoded data removed]",
            "text/plain": [
              "<Figure size 400x800 with 1 Axes>"
            ]
          },
          "metadata": {},
          "output_type": "display_data"
        }
      ],
      "source": [
        "plt.figure(figsize=(4,8))\n",
        "plt.axis('off')\n",
        "plt.title(f'{train_subjs[0]} - {train_emos[0]}', y=-0.1)\n",
        "plt.imshow(A[:, 0, 0].reshape((243, 320)), cmap='gray')\n",
        "# Uncomment this part to display a test image\n",
        "# plt.title(f'{test_subjs[0]} - {test_emos[0]}', y=-0.1)\n",
        "# plt.imshow(test_imgs[:, 0].reshape((243, 320)), cmap='gray')"
      ]
    },
    {
      "cell_type": "markdown",
      "metadata": {
        "id": "7aPPIsP9AioN"
      },
      "source": [
        "Sounds great! Now lets proceed to the next section."
      ]
    },
    {
      "cell_type": "markdown",
      "metadata": {
        "id": "Sxr3SFz44Ngl"
      },
      "source": [
        "<a name=\"implement\"></a>\n",
        "\n",
        "#Implementations 🧨\n",
        "\n",
        "---\n",
        "\n",
        "Now, in this section, we will implement the following methods:\n",
        "  - [Fold](#fold)\n",
        "  - [Unfold](#unfold)\n",
        "  - [Multiplication](#multiply)\n",
        "  - [Higher-Order SVD](#hosvd)\n",
        "  - [Classifier](#classifier)\n",
        "\n",
        "Numpy represent elements of a 3D tensor in the format of A\\[depth]\\[row]\\[column] but according to the class materials, we prefer to represent our elements in the format of A\\[row]\\[column]\\[depth]. Therefore, We implement first three methods in two different ways:\n",
        "\n",
        "1. Approach 1: </br>\n",
        "    In this approach, we assume that our tensors are represented in the format of A\\[row]\\[column]\\[depth]. (Representation of the class)\n",
        "\n",
        "2. Approach 2: </br>\n",
        "    In this approach, we assume that our tensors are represented in the format of A\\[depth]\\[row]\\[column]. (Default representation of numpy)\n",
        "\n",
        "Please remember that we only implement methods in second approach, although I have tested these methods in both formats, but we only use methods of the first approach. Feel free to test and use methods of the second approach."
      ]
    },
    {
      "cell_type": "markdown",
      "metadata": {
        "id": "wIoz9Fzv6T7D"
      },
      "source": [
        "<a name=\"fold\"></a>\n",
        "\n",
        "###Folding\n",
        "\n",
        "---\n",
        "\n",
        "Let's implement three different modes of folding...\n"
      ]
    },
    {
      "cell_type": "code",
      "execution_count": null,
      "metadata": {
        "id": "19ehOcmU4Qde"
      },
      "outputs": [],
      "source": [
        "# -------------------- Approach 1 --------------------\n",
        "def fold(A, mode, shape):\n",
        "    if A.shape[0] != shape[mode-1]:\n",
        "        raise ValueError('#Rows must be = value of shape[mod-1]')\n",
        "\n",
        "    n, m = A.shape\n",
        "    if mode == 1:\n",
        "        return np.stack([row.reshape((shape[1],shape[2])) for row in A])\n",
        "\n",
        "    if mode == 2:\n",
        "        return np.rot90(np.rot90(\n",
        "            np.stack([A[:, shape[0]*i:shape[0]*(i+1)].T for i in range(shape[2])])\n",
        "            , axes=(2,1)), axes=(0,2))\n",
        "\n",
        "    if mode == 3:\n",
        "        return np.rot90(np.rot90( np.stack([row.reshape(shape[0], shape[1]) for row in A]),\n",
        "         axes=(2,1)), axes=(0,2))\n",
        "# ----------------------------------------------------\n",
        "\n",
        "# -------------------- Approach 2 --------------------\n",
        "# def fold(A, mode, shape):\n",
        "#     n, m, k = shape\n",
        "#     if mode == 1:\n",
        "#         return np.stack([A[:, n*i:n*(i+1)].T for i in range(k)], axis=2)\n",
        "\n",
        "#     if mode == 2:\n",
        "#         return np.stack([A[:, m*i:m*(i+1)].T for i in range(n)])\n",
        "\n",
        "#     if mode == 3:\n",
        "#         return A.reshape(shape)\n",
        "# ----------------------------------------------------"
      ]
    },
    {
      "cell_type": "markdown",
      "metadata": {
        "id": "tNfnOI2TAioN"
      },
      "source": [
        "Now let's validate performance of our folding method with some examples from the class..."
      ]
    },
    {
      "cell_type": "code",
      "execution_count": null,
      "metadata": {
        "id": "gmjRyJ1vAioN",
        "outputId": "37e120c3-531c-45d5-ba8b-ec5efbd5331b"
      },
      "outputs": [
        {
          "name": "stdout",
          "output_type": "stream",
          "text": [
            "\n",
            "Fold - Mode 1:\n",
            "[[[-1  0 -4]\n",
            "  [ 0 -1 -5]\n",
            "  [-2 -3  0]]\n",
            "\n",
            " [[-1  2 -7]\n",
            "  [-1  0 -8]\n",
            "  [-5 -7 -2]]\n",
            "\n",
            " [[ 5  6 11]\n",
            "  [-3  8 16]\n",
            "  [ 1  3 -6]]]\n",
            "Output shape:  (3, 3, 3)\n",
            "\n",
            "Fold - Mode 2:\n",
            "[[[  1   2  -3]\n",
            "  [ -2  -7   9]\n",
            "  [  4   9 -13]]\n",
            "\n",
            " [[  2   0  -1]\n",
            "  [  5   3  -4]\n",
            "  [  5  -1  -2]]]\n",
            "Output shape:  (2, 3, 3)\n",
            "\n",
            "Fold - Mode 3:\n",
            "[[[  2   2  12]\n",
            "  [  3   2  21]\n",
            "  [  1   1   6]]\n",
            "\n",
            " [[ -1   1 -12]\n",
            "  [  0   0   0]\n",
            "  [ -2  -5  -3]]]\n",
            "Output shape:  (2, 3, 3)\n"
          ]
        }
      ],
      "source": [
        "print('\\nFold - Mode 1:')\n",
        "X = np.array([[-1, 0, -4, 0, -1, -5, -2, -3, 0],\n",
        "              [-1, 2, -7, -1, 0, -8, -5, -7, -2],\n",
        "              [5, 6, 11, -3, 8, 16, 1, 3, -6]])\n",
        "\n",
        "print(fold(X, mode=1, shape=(3,3,3)))\n",
        "print('Output shape: ', fold(X, mode=1, shape=(3,3,3)).shape)\n",
        "\n",
        "print('\\nFold - Mode 2:')\n",
        "X = np.array([[1, 2, 2, 0, -3, -1],\n",
        "              [-2, 5, -7, 3, 9, -4],\n",
        "              [4, 5, 9, -1, -13, -2]])\n",
        "\n",
        "print(fold(X, mode=2, shape=(2,3,3)))\n",
        "print('Output shape: ', fold(X, mode=2, shape=(2,3,3)).shape)\n",
        "\n",
        "print('\\nFold - Mode 3:')\n",
        "X = np.array([[2, 3, 1, -1, 0, -2],\n",
        "              [2, 2, 1, 1, 0, -5],\n",
        "              [12, 21, 6, -12, 0, -3]])\n",
        "\n",
        "print(fold(X, mode=3, shape=(2, 3, 3)))\n",
        "print('Output shape: ', fold(X, mode=3, shape=(2, 3, 3)).shape)"
      ]
    },
    {
      "cell_type": "markdown",
      "metadata": {
        "id": "KUgJGvVoAioO"
      },
      "source": [
        "Our method works properly!"
      ]
    },
    {
      "cell_type": "markdown",
      "metadata": {
        "id": "eWHN4Q17KAcO"
      },
      "source": [
        "<a name=\"unfold\"></a>\n",
        "\n",
        "###Unfolding\n",
        "\n",
        "---\n",
        "\n",
        "Let's implement three different modes of unfolding, Assume that A is of shape nxmxk:\n",
        "- Mode 1 : [A(:, 0, :), A(:, 1, :), ..., A(:, m-1, :)]\n",
        "  \n",
        "- Mode 2 : [A(:, :, 0), A(:, :, 1), ..., A(:, :, k-1)]\n",
        "  \n",
        "- Mode 3 : [A(0, :, :), A(1, :, :), ..., A(n-1, :, :)]"
      ]
    },
    {
      "cell_type": "code",
      "execution_count": null,
      "metadata": {
        "id": "zw1eOnQQ4Qdg"
      },
      "outputs": [],
      "source": [
        "# -------------------- Approach 1 --------------------\n",
        "def unfold(A, mode):\n",
        "    n, m, k = A.shape\n",
        "    if mode == 1:\n",
        "        return A.reshape(n, -1)\n",
        "    if mode == 2:\n",
        "        return np.vstack([A[:, :, i] for i in range(k)]).T\n",
        "    if mode == 3:\n",
        "        return np.vstack([A[i, :, :] for i in range(n)]).T\n",
        "# ----------------------------------------------------\n",
        "\n",
        "# -------------------- Approach 2 --------------------\n",
        "# def unfold(A, mode):\n",
        "#     n, m , k = A.shape\n",
        "#     if mode == 1:\n",
        "#         return np.vstack([A[:, :, i] for i in range(k)]).T\n",
        "\n",
        "#     if mode == 2:\n",
        "#         return np.hstack([A[i, :, :].T for i in range(n)])\n",
        "\n",
        "#     if mode == 3:\n",
        "#         return np.vstack([A[i, :, :].flatten() for i in range(n)])\n",
        "# ----------------------------------------------------"
      ]
    },
    {
      "cell_type": "markdown",
      "metadata": {
        "id": "DEuMhxoDAioP"
      },
      "source": [
        "Now let's test our method with an example from the class to make sure that it works properly..."
      ]
    },
    {
      "cell_type": "code",
      "execution_count": null,
      "metadata": {
        "id": "seFhV4qdAioP",
        "outputId": "f74e90bc-5bff-4d9d-84e4-b4cc6f8de44f"
      },
      "outputs": [
        {
          "name": "stdout",
          "output_type": "stream",
          "text": [
            "shape of X: (4, 2, 3)\n",
            "\n",
            "Unfold - Mode 1:\n",
            "[[ 4  0 10  2 -2  1]\n",
            " [-3  1  5  0 -1  2]\n",
            " [ 0  3 -1 -6  4  4]\n",
            " [-1  5 -2  1 -4  0]]\n",
            "\n",
            "Unfold - Mode 2:\n",
            "[[ 4 -3  0 -1  0  1  3  5 10  5 -1 -2]\n",
            " [ 2  0 -6  1 -2 -1  4 -4  1  2  4  0]]\n",
            "\n",
            "Unfold - Mode 3:\n",
            "[[ 4  2 -3  0  0 -6 -1  1]\n",
            " [ 0 -2  1 -1  3  4  5 -4]\n",
            " [10  1  5  2 -1  4 -2  0]]\n"
          ]
        }
      ],
      "source": [
        "X = np.array( [[[4,0,10],\n",
        "                [2,-2,1]],\n",
        "\n",
        "               [[-3,1,5],\n",
        "                [0,-1,2]],\n",
        "\n",
        "               [[0,3,-1],\n",
        "                [-6,4,4]],\n",
        "\n",
        "               [[-1,5,-2],\n",
        "                [1,-4,0]]] )\n",
        "\n",
        "print(f'shape of X: {X.shape}')\n",
        "\n",
        "print('\\nUnfold - Mode 1:')\n",
        "print( unfold(X, 1) )\n",
        "\n",
        "print('\\nUnfold - Mode 2:')\n",
        "print( unfold(X, 2) )\n",
        "\n",
        "print('\\nUnfold - Mode 3:')\n",
        "print( unfold(X, 3) )"
      ]
    },
    {
      "cell_type": "markdown",
      "metadata": {
        "id": "L8UY7zz3AioP"
      },
      "source": [
        "Awesome! Our method works properly."
      ]
    },
    {
      "cell_type": "markdown",
      "metadata": {
        "id": "Y7AhfCSbaOLj"
      },
      "source": [
        "<a name=\"multiply\"></a>\n",
        "\n",
        "###Multiplication\n",
        "\n",
        "---\n",
        "\n",
        "Next, we implement the multiplication operator. It is straight forward because we rely on numpy standard multiplier and our previous methods."
      ]
    },
    {
      "cell_type": "code",
      "execution_count": null,
      "metadata": {
        "id": "AdCWGp9WaOLj"
      },
      "outputs": [],
      "source": [
        "# -------------------- Approach 1 --------------------\n",
        "def multiply(A, U, mode):\n",
        "    if mode in [1, 2, 3]:\n",
        "        shape = list(A.shape)\n",
        "        shape[mode-1] = U.shape[0]\n",
        "        return fold(U @ unfold(A, mode), mode=mode, shape=shape)\n",
        "# ----------------------------------------------------\n",
        "\n",
        "# -------------------- Approach 2 --------------------\n",
        "# def multiply(A, U, mode):\n",
        "#     if mode in [1, 2, 3]:\n",
        "#         shape = list(A.shape)\n",
        "#         shape[mode%3] = U.shape[0]\n",
        "#         return fold(U @ unfold(A, mode), mode=mode, shape=shape)\n",
        "# ----------------------------------------------------"
      ]
    },
    {
      "cell_type": "markdown",
      "metadata": {
        "id": "zwAiYdbvAioQ"
      },
      "source": [
        "Now, let's test our method with an example from the class..."
      ]
    },
    {
      "cell_type": "code",
      "execution_count": null,
      "metadata": {
        "id": "zAcpw4C5AioQ",
        "outputId": "ea36076b-70bc-48c8-95ce-55a20e19ab7a"
      },
      "outputs": [
        {
          "name": "stdout",
          "output_type": "stream",
          "text": [
            "\n",
            "Multiplication - Mode 1 example: \n",
            "[[[-1  0 -4]\n",
            "  [ 0 -1 -5]\n",
            "  [-2 -3  0]]\n",
            "\n",
            " [[-1  2 -7]\n",
            "  [-1  0 -8]\n",
            "  [-5 -7 -2]]\n",
            "\n",
            " [[ 5  6 11]\n",
            "  [-3  8 16]\n",
            "  [ 1  3 -6]]]\n",
            "(2, 3, 3) x_mode1 (3, 2) -> (3, 3, 3)\n",
            "\n",
            "Multiplication - Mode 2 example\n",
            "[[[  1   2  -3]\n",
            "  [ -2  -7   9]\n",
            "  [  4   9 -13]]\n",
            "\n",
            " [[  2   0  -1]\n",
            "  [  5   3  -4]\n",
            "  [  5  -1  -2]]]\n",
            "(2, 2, 3) x_mode2 (3, 2) -> (2, 3, 3)\n",
            "\n",
            "Multiplication - Mode 3 example\n",
            "[[[  2   2  12]\n",
            "  [  3   2  21]\n",
            "  [  1   1   6]]\n",
            "\n",
            " [[ -1   1 -12]\n",
            "  [  0   0   0]\n",
            "  [ -2  -5  -3]]]\n",
            "(2, 3, 2) x_mode3 (3, 2) -> (2, 3, 3)\n"
          ]
        }
      ],
      "source": [
        "print('\\nMultiplication - Mode 1 example: ')\n",
        "X = np.array( [[[1,0,4], [0,1,5], [2,3,0]], [[1,2,1],[-1,2,2],[-1,-1,-2]]] )\n",
        "U = np.array([[-1, 0], [-2, 1], [2, 3]])\n",
        "print(multiply(X, U, mode=1))\n",
        "print(f'{X.shape} x_mode1 {U.shape} -> {multiply(X, U, mode=1).shape}')\n",
        "\n",
        "print('\\nMultiplication - Mode 2 example')\n",
        "X = np.array( [[[1,2,-3], [0,-1,1]], [[2,0,-1], [3,1,-2]]] )\n",
        "V = np.array( [[1,0], [-2,3], [4,-1]] )\n",
        "print(multiply(X, V, mode=2))\n",
        "print(f'{X.shape} x_mode2 {V.shape} -> {multiply(X, V, mode=2).shape}')\n",
        "\n",
        "print('\\nMultiplication - Mode 3 example')\n",
        "X = np.array( [[[2,2], [3,4], [1,1]], [[-1,-3], [0,0], [-2,1]]] )\n",
        "W = np.array( [[1,0], [2,-1], [3,3]] )\n",
        "print(multiply(X, W, mode=3))\n",
        "print(f'{X.shape} x_mode3 {W.shape} -> {multiply(X, W, mode=3).shape}')"
      ]
    },
    {
      "cell_type": "markdown",
      "metadata": {
        "id": "1-gGKZxfAioQ"
      },
      "source": [
        "All three modes work properly!"
      ]
    },
    {
      "cell_type": "markdown",
      "metadata": {
        "id": "vBmy0cfBaOLj"
      },
      "source": [
        "<a name=\"hosvd\"></a>\n",
        "\n",
        "###Higher-Order SVD\n",
        "\n",
        "---\n",
        "\n",
        "Finally, we implement a method for Higher-Order Singular Value Decomposition (aka HOSVD). In this decompostion, we decompose our tensor A into a tensor S and three matrices:\n",
        "\n",
        "> A = S  x_mode1  U1  x_mode2  U2  x_mode3  U3\n",
        "\n",
        "where S is equal to:\n",
        "\n",
        "> S = A  x_mode1  U1.T  x_mode2  U2.T  x_mode3  U3.T"
      ]
    },
    {
      "cell_type": "code",
      "execution_count": null,
      "metadata": {
        "id": "lyzqNomKaOLk"
      },
      "outputs": [],
      "source": [
        "def HOSVD(A):\n",
        "    U_mats = [np.linalg.svd(unfold(A, mode), full_matrices=False)[0] for mode in range(1, 4)]\n",
        "    S = A.copy()\n",
        "    for i, U in enumerate(U_mats, start=1):\n",
        "        S = multiply(S, U.T, mode=i)\n",
        "    return S, U_mats"
      ]
    },
    {
      "cell_type": "markdown",
      "metadata": {
        "id": "94_GdYtUAioW"
      },
      "source": [
        "Now let's test this method with a sample tensor. (1) Two  tensors, A & S, must hold the previous equation and each layer of S in each dimension must be orthogonal to other layers.\n",
        "\n",
        "Here, we only test the first condition and the second condition holds due to the fact that we calculate U matrices using SVD of unfolded version of our tensor in different modes."
      ]
    },
    {
      "cell_type": "code",
      "execution_count": null,
      "metadata": {
        "id": "v5UAv8ZWAioW",
        "outputId": "a1e8ceaf-fc91-4458-fa26-23a3dba250be"
      },
      "outputs": [
        {
          "name": "stdout",
          "output_type": "stream",
          "text": [
            " Norm of the residual tensor:  2.7381839429922434e-14\n"
          ]
        }
      ],
      "source": [
        "X = np.array( [[[2,2], [3,4], [1,1]], [[-1,-3], [0,0], [-2,1]]] )\n",
        "# Calculating the HOSVD\n",
        "S, Us = HOSVD(X)\n",
        "# Checking the first equation\n",
        "s = S.copy()\n",
        "for i, U in enumerate(Us, start=1):\n",
        "    s = multiply(s, U, mode=i)\n",
        "# Calculating the frobenius norm of difference of X and S\n",
        "print(' Norm of the residual tensor: ', np.sqrt((X - s) ** 2).sum())"
      ]
    },
    {
      "cell_type": "markdown",
      "metadata": {
        "id": "EF8w4cT5AioW"
      },
      "source": [
        "Awesome! Calculated S applies to the first equation."
      ]
    },
    {
      "cell_type": "markdown",
      "metadata": {
        "id": "5HLu1YbaAioW"
      },
      "source": [
        "<a name=\"classifier\"></a>\n",
        "\n",
        "###Classifier\n",
        "\n",
        "---\n",
        "\n",
        "Before going to the next section, let's define a method that takes a test image and predicts emotion and subject for the given image.\n",
        "\n",
        "Class materials proposed to solve a least squares problem for each C[:, e, :] and proposed another method to decrease the necessary computation for this problem. However, I calculate pseudo inverse of each C[:, e, :] and apply them in testing stage to solve this least square problems, in this way, we reduce the solving of each LSP to a single matrix multiplication. I am well aware that calculating the pseudo inverse of a matrix may not be computationally stable and may have more error that directly solving LSPs, but some level numerical error is acceptable in our computation and do not change our predictions."
      ]
    },
    {
      "cell_type": "code",
      "execution_count": null,
      "metadata": {
        "id": "I0YY8jIuAioW"
      },
      "outputs": [],
      "source": [
        "def classify(img, Cpinv, H, threshold):\n",
        "    alphas = Cpinv @ img\n",
        "    dists = np.linalg.norm((H[:, :, np.newaxis] - alphas), ord=2, axis=1)\n",
        "    min_index = np.unravel_index(dists.argmin(), dists.shape)\n",
        "    # Checking threshold\n",
        "    if dists[min_index] <= threshold:\n",
        "        return min_index\n",
        "    else:\n",
        "        return -1, -1"
      ]
    },
    {
      "cell_type": "markdown",
      "metadata": {
        "id": "Rq1TC-Y4AioW"
      },
      "source": [
        "Let's test this method on a sample image from our training images to validate its performance..."
      ]
    },
    {
      "cell_type": "code",
      "execution_count": null,
      "metadata": {
        "id": "3T9mBunuAioX"
      },
      "outputs": [],
      "source": [
        "# Calculating HOSVD of the tensor A\n",
        "S, Us = HOSVD(A)\n",
        "F, G, H = Us\n",
        "# Calculating the tensor C\n",
        "C = multiply(multiply(S, F, mode=1), G, mode=2)\n",
        "# Calculating the pseudo inverse of each C[:, e, :]\n",
        "Cpinv = np.stack([np.linalg.pinv(C[:, e, :]) for e in range(C.shape[1])], axis=1)"
      ]
    },
    {
      "cell_type": "code",
      "execution_count": null,
      "metadata": {
        "id": "VeEVmITbAioa",
        "outputId": "2eed7a36-109e-4c19-e8da-a78c01f6701d"
      },
      "outputs": [
        {
          "name": "stdout",
          "output_type": "stream",
          "text": [
            "Real subject and emotion:  ('subject10', 'sleepy')\n",
            "Predicted subject and emotion:  ('subject10', 'sleepy')\n"
          ]
        }
      ],
      "source": [
        "# Printing the real subject and emotion labels\n",
        "print('Real subject and emotion: ', (train_subjs[2], train_emos[2]))\n",
        "# Printing the predicted subject and emotion labels\n",
        "subj, emo = classify(A[:, 2, 2], Cpinv, H, threshold=10)\n",
        "print('Predicted subject and emotion: ', (train_subjs[subj], train_emos[emo]))"
      ]
    },
    {
      "cell_type": "markdown",
      "metadata": {
        "id": "dXhtXIJQAiob"
      },
      "source": [
        "<a name=\"apply\"></a>\n",
        "\n",
        "#Applying the Classifier\n",
        "\n",
        "---\n",
        "\n",
        "In this section, we apply our classifier method to predict subjects and emotions for test images.\n",
        "\n",
        "First, we define two confusion matrices, one for subjects and another one for emotions. Then, we predict subject and emotion for each test image and fill our confusion matrices.\n",
        "\n",
        "Unfortunately, only \"exist\" and \"not_exist\" labels are provided for emotion of test images, therefore we will define a 2x2 confusion matrix for emotions..."
      ]
    },
    {
      "cell_type": "code",
      "execution_count": null,
      "metadata": {
        "id": "5dkrR0Q4Aiob"
      },
      "outputs": [],
      "source": [
        "# Defining confusion matrices\n",
        "emo_conf_mat = np.zeros((2, 2))\n",
        "subj_conf_mat = np.zeros((len(train_subjs) + 1, len(train_subjs) + 1))\n",
        "# Iterating over test images\n",
        "for col in range(test_imgs.shape[1]):\n",
        "    # Predicting labels\n",
        "    pred_subj, pred_emo = classify(test_imgs[:, col], Cpinv, H, threshold=0.54) # Feel free to change the threshold\n",
        "    if pred_emo != -1:\n",
        "        pred_emo = 1\n",
        "\n",
        "    # Extracting real labels\n",
        "    real_emo = int(test_emos[col] == 'exist')\n",
        "    if real_emo == 1:\n",
        "        real_subj = train_subjs.index(test_subjs[col])\n",
        "    else:\n",
        "        real_subj = -1\n",
        "\n",
        "    # Adding values to the confusion matrices\n",
        "    emo_conf_mat[ real_emo][ int(pred_emo >= 0) ] += 1\n",
        "    subj_conf_mat[real_subj][pred_subj] += 1"
      ]
    },
    {
      "cell_type": "markdown",
      "metadata": {
        "id": "XOIyOYTaAiob"
      },
      "source": [
        "I found the best threshold to be \"0.54\". Feel free to change the specified threshold to test the performance of our classifier."
      ]
    },
    {
      "cell_type": "markdown",
      "metadata": {
        "id": "0ZlDKSseAiob"
      },
      "source": [
        "<a name=\"conclusion\"></a>\n",
        "\n",
        "# Visualization & Final Conclusion\n",
        "\n",
        "---\n",
        "\n",
        "Finally, we plot our confusion matrices:"
      ]
    },
    {
      "cell_type": "code",
      "execution_count": null,
      "metadata": {
        "id": "sywAaMIqAioc",
        "outputId": "9d188843-7eb8-4348-de1c-b950149845db"
      },
      "outputs": [
        {
          "data": {
            "text/plain": [
              "[Text(0.5, 1.0, 'Confusion Matrix for Emotions')]"
            ]
          },
          "execution_count": 21,
          "metadata": {},
          "output_type": "execute_result"
        },
        {
          "data": {
            "image/png": "[encoded data removed]",
            "text/plain": [
              "<Figure size 800x800 with 4 Axes>"
            ]
          },
          "metadata": {},
          "output_type": "display_data"
        }
      ],
      "source": [
        "# Plotting our confusion matrices\n",
        "plt.figure(figsize=(8, 8))\n",
        "# Plotting the confusion matrix for subjects\n",
        "plt.subplot(2, 1, 1)\n",
        "sns.heatmap(subj_conf_mat, annot=True, cmap='YlGnBu').set(title=\"Confusion Matrix for Subjects\")\n",
        "# Plotting the confusion matrix for emotions\n",
        "plt.subplot(2, 1, 2)\n",
        "sns.heatmap(emo_conf_mat, annot=True, cmap='YlGnBu').set(title=\"Confusion Matrix for Emotions\")"
      ]
    },
    {
      "cell_type": "markdown",
      "metadata": {
        "id": "ZQR8j0r9aOLm"
      },
      "source": [
        "Out of 25 test images, our model correctly predicted labels of 23 test images! It not just predicted the existence of the person in our dataset, but also predicted the emotion of 23 test images that their person existed in our dataset...\n",
        "\n",
        "Overall, it seems that this method shows a much better performance in compared to the Eigenfaces method. This is not surprising, because we have utilized more data and used more computational resources. But developing a model that wisely uses computational resources and shows better performance in return is a valuable achievement."
      ]
    },
    {
      "cell_type": "markdown",
      "metadata": {
        "id": "ymM3bE0fVQS9"
      },
      "source": [
        "\n",
        "Thanks for you valuable time and attention! This notebook is available in the link below😀\n",
        "\n",
        "https://drive.google.com/file/d/1_USQKnoADpOcZQCL4rFXCGWjFPS3ORoP/view?usp=sharing"
      ]
    }
  ],
  "metadata": {
    "colab": {
      "provenance": []
    },
    "kernelspec": {
      "display_name": "Python 3",
      "name": "python3"
    },
    "language_info": {
      "codemirror_mode": {
        "name": "ipython",
        "version": 3
      },
      "file_extension": ".py",
      "mimetype": "text/x-python",
      "name": "python",
      "nbconvert_exporter": "python",
      "pygments_lexer": "ipython3",
      "version": "3.10.12"
    }
  },
  "nbformat": 4,
  "nbformat_minor": 0
}
