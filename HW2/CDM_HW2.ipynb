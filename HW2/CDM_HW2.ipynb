{
  "cells": [
    {
      "cell_type": "markdown",
      "metadata": {
        "id": "NchqVoT3OL8f"
      },
      "source": [
        "# MNIST Digit Recognition Using Average of Images\n",
        "\n",
        "---\n",
        "#### Course: Computational Data Mining\n",
        "#### Professor: Dr. Fatemeh Shakeri\n",
        "#### Student: Ilya Khalafi\n",
        "#### Student ID: 9913039\n",
        "#### October 2023"
      ]
    },
    {
      "cell_type": "markdown",
      "metadata": {
        "id": "ZuZQ4wht7zlb"
      },
      "source": [
        "# Table Of Contents\n",
        "- [Introduction](#intro)\n",
        "- [Dependencies](#dependency)\n",
        "- [Importing Dataset](#read)\n",
        "- [Method](#method)\n",
        "    - [Distance to the Average Image](#average)"
      ]
    },
    {
      "cell_type": "markdown",
      "metadata": {
        "id": "ZpkdYRqO5VEj"
      },
      "source": [
        "<a name=\"intro\"></a>\n",
        "\n",
        "# Introduction 📚\n",
        "\n",
        "---\n",
        "\n",
        "The MNIST database is a well-known dataset in computer vision that includes handwritten digits of 0 to 9.\n",
        "\n",
        "<img src=\"https://upload.wikimedia.org/wikipedia/commons/thumb/f/f7/MnistExamplesModified.png/320px-MnistExamplesModified.png\" width=\"500\"/>\n",
        "\n",
        "In this article, we convert matrix of each image to a vector and for each digit, we define a space using vector of that digit. Then, we find closest coordination of our new image in each space and label our image with the digit that has closest coordination (least norm of remainder vector)."
      ]
    },
    {
      "cell_type": "markdown",
      "metadata": {
        "id": "vXR_nHyMBCVI"
      },
      "source": [
        "<a name=\"dependency\"></a>\n",
        "\n",
        "#Dependencies 🧰\n",
        "\n",
        "---\n",
        "\n",
        "We need the following libraries during this article:\n",
        "\n",
        "- **os** : <br />\n",
        "    os is among python's standard libraries. We use it to browser directories and import images.\n",
        "\n",
        "- **numpy** : <br />\n",
        "    numpy is a commonly used library for doing scientific computation. Unlike python default pointer structure, numpy saves variables inplace and continous on RAM and also provides sophisticated methods that use parallelism to make our computations much faster.\n",
        "\n",
        "- **PIL**: <br />\n",
        "    PIL or Pillow library is a common well-known library for image processing. It helps us to read, manipulate and save images. We will use it together with OpenCV.\n",
        "\n",
        "- **matplotlib** : <br />\n",
        "    Matplotlib is a well-known library in data science for visualization. We will use matplotlib to demonstrate our results.\n",
        "\n",
        "- **seaborn** : <br />\n",
        "    seaborn is built on matplotlib and provides many chart templates for us so we don't need to draw and build every components of our charts with matplotlib.\n",
        "\n",
        "- **scikit-learn (sklearn)** : <br />\n",
        "    This library is a known data science library and we will import iris dataset from it and also some metric methods as well.\n",
        "\n",
        "- **cv2** : <br />\n",
        "    OpenCV or cv2 is probably the most well-known and the most useful python library for image and video processing."
      ]
    },
    {
      "cell_type": "code",
      "execution_count": 7,
      "metadata": {
        "id": "sd9VGeCJBDXg"
      },
      "outputs": [],
      "source": [
        "%%capture\n",
        "# Python Standard Libraries\n",
        "import os\n",
        "import random\n",
        "# Fundamental Data & Image Analysis Tools\n",
        "import numpy as np\n",
        "import matplotlib.pyplot as plt\n",
        "import seaborn as sns\n",
        "%matplotlib inline\n",
        "from PIL import Image\n",
        "import cv2"
      ]
    },
    {
      "cell_type": "markdown",
      "metadata": {
        "id": "bhjZzto9BJuJ"
      },
      "source": [
        "<a name=\"read\"></a>\n",
        "\n",
        "#Importing Dataset 🖼\n",
        "\n",
        "---\n",
        "\n",
        "First, we import our dataset from my google drive using gdown.\n"
      ]
    },
    {
      "cell_type": "markdown",
      "metadata": {
        "id": "lh6ugZwnBP2_"
      },
      "source": [
        "<a name=\"download\"></a>\n",
        "\n",
        "####Downloading the Dataset\n",
        "\n",
        "Lets download our dataset.\n"
      ]
    },
    {
      "cell_type": "code",
      "execution_count": null,
      "metadata": {
        "id": "eStvgJIsd8sa"
      },
      "outputs": [],
      "source": [
        "# Download the dataset\n",
        "!gdown 'ٰ1YIHYl3F7lvjWqH03gy4KShK4sR_i16yv'"
      ]
    },
    {
      "cell_type": "markdown",
      "metadata": {
        "id": "hEVt24JvCvXH"
      },
      "source": [
        "Now we unpack our dataset."
      ]
    },
    {
      "cell_type": "code",
      "execution_count": 12,
      "metadata": {
        "id": "44TlI9N0CxkM"
      },
      "outputs": [],
      "source": [
        "%%capture\n",
        "# Unpack the Dataset\n",
        "!unzip '/content/TinyMNIST.zip'"
      ]
    },
    {
      "cell_type": "markdown",
      "metadata": {
        "id": "Nd9bXrpjKAcK"
      },
      "source": [
        "Then, we browse the train and test images' directories and import images' addresses."
      ]
    },
    {
      "cell_type": "code",
      "execution_count": 13,
      "metadata": {
        "id": "bner_EG4KAcL"
      },
      "outputs": [],
      "source": [
        "# Defining Directories\n",
        "train_dr = 'TinyMNIST/test'\n",
        "test_dr = 'TinyMNIST/train'\n",
        "# Browsing Train Directory\n",
        "train_folders = [addr for addr in os.listdir(train_dr)]\n",
        "train_paths = {int(folder): [os.path.join(train_dr, folder, path) for path in os.listdir(os.path.join(train_dr, folder))] for folder in train_folders}\n",
        "# Browsing Test Directory\n",
        "test_folders = [addr for addr in os.listdir(test_dr)]\n",
        "test_paths = {int(folder): [os.path.join(test_dr, folder, path) for path in os.listdir(os.path.join(test_dr, folder))] for folder in test_folders}"
      ]
    },
    {
      "cell_type": "markdown",
      "metadata": {
        "id": "vyr0071q2AOg"
      },
      "source": [
        "Finally, lets demonstrate our photo for a quick preview!"
      ]
    },
    {
      "cell_type": "code",
      "execution_count": 14,
      "metadata": {
        "colab": {
          "base_uri": "https://localhost:8080/",
          "height": 390
        },
        "id": "nWLrDCMj2FLQ",
        "outputId": "28633021-a1d8-4ce3-b49f-3f797500dba3"
      },
      "outputs": [
        {
          "output_type": "execute_result",
          "data": {
            "text/plain": [
              "<matplotlib.image.AxesImage at 0x7e0865e56ec0>"
            ]
          },
          "metadata": {},
          "execution_count": 14
        },
        {
          "output_type": "display_data",
          "data": {
            "text/plain": [
              "<Figure size 400x800 with 1 Axes>"
            ],
            "image/png": "[encoded data removed]"
          },
          "metadata": {}
        }
      ],
      "source": [
        "# Selecting a Random Image\n",
        "num = random.randint(0, 9)\n",
        "sample_img = np.array(Image.open(random.choice(train_paths[num])))\n",
        "# Displaying the Image\n",
        "plt.figure(figsize=(4,8))\n",
        "plt.axis('off')\n",
        "plt.title(f'Number {num}', y=-0.1)\n",
        "plt.imshow(sample_img, cmap='gray')"
      ]
    },
    {
      "cell_type": "markdown",
      "metadata": {
        "id": "Sxr3SFz44Ngl"
      },
      "source": [
        "<a name=\"method\"></a>\n",
        "\n",
        "#Method 🧭\n",
        "\n",
        "---\n",
        "\n",
        "\n",
        "We will implement and test the performance of calculating distance to the average image of each digit.\n",
        "\n",
        "But before that, we must first import images from imported addresses into numpy dataframes."
      ]
    },
    {
      "cell_type": "code",
      "execution_count": 15,
      "metadata": {
        "id": "UlDwG5WlKAcN"
      },
      "outputs": [],
      "source": [
        "train_imgs = {}\n",
        "test_imgs = {}\n",
        "\n",
        "# Importing Training Images and Converting to Numpy Array\n",
        "for key in train_paths.keys():\n",
        "    train_imgs[key] = np.zeros((len(train_paths[key]), 28*28))\n",
        "    for idx, addr in enumerate(train_paths[key]):\n",
        "        train_imgs[key][idx] = np.array(Image.open(random.choice(train_paths[num]))).flatten()\n",
        "\n",
        "# Importing Test Images and Converting to Numpy Array\n",
        "for key in test_paths.keys():\n",
        "    test_imgs[key] = np.zeros((len(test_paths[key]), 28*28))\n",
        "    for idx, addr in enumerate(test_paths[key]):\n",
        "        test_imgs[key][idx] = np.array(Image.open(random.choice(test_paths[num]))).flatten()"
      ]
    },
    {
      "cell_type": "markdown",
      "metadata": {
        "id": "wIoz9Fzv6T7D"
      },
      "source": [
        "<a name=\"average\"></a>\n",
        "\n",
        "#Distance to the Average Image🏋\n",
        "\n",
        "---\n",
        "\n",
        "Here, we calculate average of images of each digit and label each test image with the digit that its average has the least distance with."
      ]
    },
    {
      "cell_type": "code",
      "execution_count": 16,
      "metadata": {
        "id": "u1psEc32KAcN"
      },
      "outputs": [],
      "source": [
        "# Calculate Average Vector for Each Digit\n",
        "digits_avg = [np.mean(train_imgs[key], axis=0) for key in sorted(train_imgs.keys())]\n",
        "digits_avg = np.array(digits_avg)\n",
        "\n",
        "# Calculate Distance of Each Test Image to Average Vector\n",
        "# and Assign Digit with the Least Distance\n",
        "conf_mat = np.zeros((10, 10))\n",
        "for digit in test_imgs.keys():\n",
        "    for vec in test_imgs[digit]:\n",
        "        pred = np.argmax(np.sum((digits_avg - vec.reshape(1, -1)) ** 2, axis=1))\n",
        "        conf_mat[digit][pred] += 1"
      ]
    },
    {
      "cell_type": "markdown",
      "metadata": {
        "id": "eWHN4Q17KAcO"
      },
      "source": [
        "Now we print model's accuracy and its confusion matrix to visualize its performance."
      ]
    },
    {
      "cell_type": "code",
      "execution_count": 17,
      "metadata": {
        "id": "aCqxni_tKAcO",
        "outputId": "69471b5a-ea66-4f19-b5c3-a28e5e21bef7",
        "colab": {
          "base_uri": "https://localhost:8080/",
          "height": 499
        }
      },
      "outputs": [
        {
          "output_type": "stream",
          "name": "stdout",
          "text": [
            "Correct Predictions: 376.0\n",
            "Wrong Predictions: 3624.0\n",
            "Accuracy: 9.4%\n"
          ]
        },
        {
          "output_type": "execute_result",
          "data": {
            "text/plain": [
              "<Axes: >"
            ]
          },
          "metadata": {},
          "execution_count": 17
        },
        {
          "output_type": "display_data",
          "data": {
            "text/plain": [
              "<Figure size 640x480 with 2 Axes>"
            ],
            "image/png": "[encoded data removed]"
          },
          "metadata": {}
        }
      ],
      "source": [
        "# Calculating #Correct and #Wrong Predictions\n",
        "corrects = np.trace(conf_mat)\n",
        "wrongs = np.sum(conf_mat) - np.trace(conf_mat)\n",
        "\n",
        "# Printing Method's Performance\n",
        "print(f'Correct Predictions: {corrects}')\n",
        "print(f'Wrong Predictions: {wrongs}')\n",
        "print(f'Accuracy: {corrects / (corrects + wrongs) * 100}%')\n",
        "\n",
        "# Plotting Confusion Matrix\n",
        "sns.heatmap(conf_mat, annot=True, cmap='YlGnBu')"
      ]
    },
    {
      "cell_type": "markdown",
      "metadata": {
        "id": "A1TByKfTKAcP"
      },
      "source": [
        "This method does not show a good performance when it comes to predicting labels. However, it is fast and it is not computationally expensive."
      ]
    },
    {
      "cell_type": "markdown",
      "metadata": {
        "id": "ymM3bE0fVQS9"
      },
      "source": [
        "\n",
        "Thanks for you attention! This notebook is available in the link below😀\n",
        "\n",
        "https://drive.google.com/file/d/1a68LlBjDD6908CH5B1ufS3rzTdkUB9b5/view?usp=sharing"
      ]
    }
  ],
  "metadata": {
    "colab": {
      "provenance": []
    },
    "kernelspec": {
      "display_name": "Python 3",
      "name": "python3"
    },
    "language_info": {
      "codemirror_mode": {
        "name": "ipython",
        "version": 3
      },
      "file_extension": ".py",
      "mimetype": "text/x-python",
      "name": "python",
      "nbconvert_exporter": "python",
      "pygments_lexer": "ipython3",
      "version": "3.10.12"
    }
  },
  "nbformat": 4,
  "nbformat_minor": 0
}